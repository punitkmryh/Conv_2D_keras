{
  "nbformat": 4,
  "nbformat_minor": 0,
  "metadata": {
    "colab": {
      "name": "Convo_2D.ipynb",
      "provenance": [],
      "authorship_tag": "ABX9TyNl8OdgMgowW1EBOYLNWvJ/",
      "include_colab_link": true
    },
    "kernelspec": {
      "name": "python3",
      "display_name": "Python 3"
    }
  },
  "cells": [
    {
      "cell_type": "markdown",
      "metadata": {
        "id": "view-in-github",
        "colab_type": "text"
      },
      "source": [
        "<a href=\"https://colab.research.google.com/github/punitkmryh/Conv_2D_keras/blob/master/Convo_2D.ipynb\" target=\"_parent\"><img src=\"https://colab.research.google.com/assets/colab-badge.svg\" alt=\"Open In Colab\"/></a>"
      ]
    },
    {
      "cell_type": "code",
      "metadata": {
        "id": "iqt0PkbQCW89",
        "colab_type": "code",
        "colab": {}
      },
      "source": [
        "import numpy as np\n",
        "import matplotlib.pyplot as plt\n",
        "%matplotlib inline\n",
        "from __future__ import print_function\n",
        "import keras\n",
        "from keras.models import Sequential\n",
        "from keras.utils import to_categorical\n",
        "from keras.layers import Dense, Conv2D, MaxPooling2D, Dropout, Flatten"
      ],
      "execution_count": null,
      "outputs": []
    },
    {
      "cell_type": "code",
      "metadata": {
        "id": "G0pyHhEhChJk",
        "colab_type": "code",
        "colab": {
          "base_uri": "https://localhost:8080/",
          "height": 50
        },
        "outputId": "9ac60b7d-14c9-4b14-a06c-f5abbe6ec6fd"
      },
      "source": [
        "from keras.datasets import cifar10\n",
        "(train_images, train_labels), (test_images, test_labels) = cifar10.load_data()"
      ],
      "execution_count": null,
      "outputs": [
        {
          "output_type": "stream",
          "text": [
            "Downloading data from https://www.cs.toronto.edu/~kriz/cifar-10-python.tar.gz\n",
            "170500096/170498071 [==============================] - 2s 0us/step\n"
          ],
          "name": "stdout"
        }
      ]
    },
    {
      "cell_type": "code",
      "metadata": {
        "id": "KVk9ZqqNCsEw",
        "colab_type": "code",
        "colab": {
          "base_uri": "https://localhost:8080/",
          "height": 83
        },
        "outputId": "c7126681-962a-4358-e9b8-186c8c37245e"
      },
      "source": [
        "print('Training data shape : ', train_images.shape, train_labels.shape)\n",
        "\n",
        "print('Testing data shape : ', test_images.shape, test_labels.shape)\n",
        "\n",
        "classes = np.unique(train_labels)\n",
        "nClasses = len(label_classes)\n",
        "print('Total number of outputs : ', nClasses)\n",
        "print('Output classes : ', classes)\n",
        "\n"
      ],
      "execution_count": null,
      "outputs": [
        {
          "output_type": "stream",
          "text": [
            "Training data shape :  (50000, 32, 32, 3) (50000, 1)\n",
            "Testing data shape :  (10000, 32, 32, 3) (10000, 1)\n",
            "Total number of outputs :  10\n",
            "Output classes :  [0 1 2 3 4 5 6 7 8 9]\n"
          ],
          "name": "stdout"
        }
      ]
    },
    {
      "cell_type": "code",
      "metadata": {
        "id": "hi_UKO_BDMJw",
        "colab_type": "code",
        "colab": {
          "base_uri": "https://localhost:8080/",
          "height": 181
        },
        "outputId": "e3d1b6de-52e4-4909-9db5-16699c580629"
      },
      "source": [
        "plt.figure(figsize=[4,2])\n",
        "# Display the first image in training data\n",
        "plt.subplot(121)\n",
        "plt.imshow(train_images[0,:,:], cmap='gray')\n",
        "plt.title(\"Ground Truth : {}\".format(train_labels[0]))\n",
        "\n",
        "# Display the first image in testing data\n",
        "plt.subplot(122)\n",
        "plt.imshow(test_images[0,:,:], cmap='gray')\n",
        "plt.title(\"Ground Truth : {}\".format(test_labels[0]))"
      ],
      "execution_count": null,
      "outputs": [
        {
          "output_type": "execute_result",
          "data": {
            "text/plain": [
              "Text(0.5, 1.0, 'Ground Truth : [3]')"
            ]
          },
          "metadata": {
            "tags": []
          },
          "execution_count": 7
        },
        {
          "output_type": "display_data",
          "data": {
            "image/png": "[encoded data removed]",
            "text/plain": [
              "<Figure size 288x144 with 2 Axes>"
            ]
          },
          "metadata": {
            "tags": [],
            "needs_background": "light"
          }
        }
      ]
    },
    {
      "cell_type": "code",
      "metadata": {
        "id": "wZdOBbwNDZ_T",
        "colab_type": "code",
        "colab": {}
      },
      "source": [
        "nRows,nCols,nDims = train_images.shape[1:]\n",
        "train_data = train_images.reshape(train_images.shape[0], nRows, nCols, nDims)\n",
        "test_data = test_images.reshape(test_images.shape[0], nRows, nCols, nDims)\n",
        "input_shape = (nRows, nCols, nDims)\n",
        "\n",
        "train_data = train_data.astype('float32')\n",
        "test_data = test_data.astype('float32')"
      ],
      "execution_count": null,
      "outputs": []
    },
    {
      "cell_type": "code",
      "metadata": {
        "id": "mBtpAoezEdFf",
        "colab_type": "code",
        "colab": {}
      },
      "source": [
        "#to_categorical = Converts a class vector (integers) to binary class matrix.\n",
        "train_data /= 255\n",
        "test_data /= 255\n",
        "\n",
        "train_labels_one_hot = to_categorical(train_labels)\n",
        "test_labels_one_hot = to_categorical(test_labels)\n"
      ],
      "execution_count": null,
      "outputs": []
    },
    {
      "cell_type": "code",
      "metadata": {
        "id": "5rGW7ENUElUX",
        "colab_type": "code",
        "colab": {
          "base_uri": "https://localhost:8080/",
          "height": 50
        },
        "outputId": "a05ada0f-fc4a-4133-bc2c-136ac9542233"
      },
      "source": [
        "print('Original label 0 : ', train_labels[0])\n",
        "print('After conversion to categorical ( one-hot ) : ', train_labels_one_hot[0])"
      ],
      "execution_count": null,
      "outputs": [
        {
          "output_type": "stream",
          "text": [
            "Original label 0 :  [6]\n",
            "After conversion to categorical ( one-hot ) :  [0. 0. 0. 0. 0. 0. 1. 0. 0. 0.]\n"
          ],
          "name": "stdout"
        }
      ]
    },
    {
      "cell_type": "code",
      "metadata": {
        "id": "BoWIOfUHE3eW",
        "colab_type": "code",
        "colab": {}
      },
      "source": [
        "def createModel():\n",
        "    model = Sequential()\n",
        "    # The first two layers with 32 filters of window size 3x3\n",
        "    model.add(Conv2D(32, (3, 3), padding='same', activation='relu', input_shape=input_shape))\n",
        "    model.add(Conv2D(32, (3, 3), activation='relu'))\n",
        "    model.add(MaxPooling2D(pool_size=(2, 2)))\n",
        "    model.add(Dropout(0.25))\n",
        "\n",
        "    model.add(Conv2D(64, (3, 3), padding='same', activation='relu'))\n",
        "    model.add(Conv2D(64, (3, 3), activation='relu'))\n",
        "    model.add(MaxPooling2D(pool_size=(2, 2)))\n",
        "    model.add(Dropout(0.25))\n",
        "\n",
        "    model.add(Conv2D(64, (3, 3), padding='same', activation='relu'))\n",
        "    model.add(Conv2D(64, (3, 3), activation='relu'))\n",
        "    model.add(MaxPooling2D(pool_size=(2, 2)))\n",
        "    model.add(Dropout(0.25))\n",
        "\n",
        "    model.add(Flatten())\n",
        "    model.add(Dense(512, activation='relu'))\n",
        "    model.add(Dropout(0.5))\n",
        "    model.add(Dense(nClasses, activation='softmax'))\n",
        "    \n",
        "    return model"
      ],
      "execution_count": null,
      "outputs": []
    },
    {
      "cell_type": "code",
      "metadata": {
        "id": "LjVwruwIE6tf",
        "colab_type": "code",
        "colab": {
          "base_uri": "https://localhost:8080/",
          "height": 683
        },
        "outputId": "2d5d9029-cc0a-4ae4-897d-7d339d4eea92"
      },
      "source": [
        "model1 = createModel()\n",
        "batch_size = 256\n",
        "epochs = 50\n",
        "model1.compile(optimizer='rmsprop', loss='categorical_crossentropy', metrics=['accuracy'])\n",
        "model1.summary()\n"
      ],
      "execution_count": null,
      "outputs": [
        {
          "output_type": "stream",
          "text": [
            "Model: \"sequential_1\"\n",
            "_________________________________________________________________\n",
            "Layer (type)                 Output Shape              Param #   \n",
            "=================================================================\n",
            "conv2d_6 (Conv2D)            (None, 32, 32, 32)        896       \n",
            "_________________________________________________________________\n",
            "conv2d_7 (Conv2D)            (None, 30, 30, 32)        9248      \n",
            "_________________________________________________________________\n",
            "max_pooling2d_3 (MaxPooling2 (None, 15, 15, 32)        0         \n",
            "_________________________________________________________________\n",
            "dropout_4 (Dropout)          (None, 15, 15, 32)        0         \n",
            "_________________________________________________________________\n",
            "conv2d_8 (Conv2D)            (None, 15, 15, 64)        18496     \n",
            "_________________________________________________________________\n",
            "conv2d_9 (Conv2D)            (None, 13, 13, 64)        36928     \n",
            "_________________________________________________________________\n",
            "max_pooling2d_4 (MaxPooling2 (None, 6, 6, 64)          0         \n",
            "_________________________________________________________________\n",
            "dropout_5 (Dropout)          (None, 6, 6, 64)          0         \n",
            "_________________________________________________________________\n",
            "conv2d_10 (Conv2D)           (None, 6, 6, 64)          36928     \n",
            "_________________________________________________________________\n",
            "conv2d_11 (Conv2D)           (None, 4, 4, 64)          36928     \n",
            "_________________________________________________________________\n",
            "max_pooling2d_5 (MaxPooling2 (None, 2, 2, 64)          0         \n",
            "_________________________________________________________________\n",
            "dropout_6 (Dropout)          (None, 2, 2, 64)          0         \n",
            "_________________________________________________________________\n",
            "flatten_1 (Flatten)          (None, 256)               0         \n",
            "_________________________________________________________________\n",
            "dense_1 (Dense)              (None, 512)               131584    \n",
            "_________________________________________________________________\n",
            "dropout_7 (Dropout)          (None, 512)               0         \n",
            "_________________________________________________________________\n",
            "dense_2 (Dense)              (None, 10)                5130      \n",
            "=================================================================\n",
            "Total params: 276,138\n",
            "Trainable params: 276,138\n",
            "Non-trainable params: 0\n",
            "_________________________________________________________________\n"
          ],
          "name": "stdout"
        }
      ]
    },
    {
      "cell_type": "code",
      "metadata": {
        "id": "SxQHsXuFFHww",
        "colab_type": "code",
        "colab": {
          "base_uri": "https://localhost:8080/",
          "height": 683
        },
        "outputId": "811f2967-a65f-4274-c45c-b68420c1e609"
      },
      "source": [
        "history = model1.fit(train_data, train_labels_one_hot, batch_size=batch_size, epochs=epochs, verbose=1, \n",
        "                   validation_data=(test_data, test_labels_one_hot))\n",
        "model1.evaluate(test_data, test_labels_one_hot)"
      ],
      "execution_count": null,
      "outputs": [
        {
          "output_type": "stream",
          "text": [
            "Epoch 1/50\n",
            "196/196 [==============================] - 219s 1s/step - loss: 2.0618 - accuracy: 0.2378 - val_loss: 1.7155 - val_accuracy: 0.3763\n",
            "Epoch 2/50\n",
            "196/196 [==============================] - 218s 1s/step - loss: 1.7050 - accuracy: 0.3794 - val_loss: 1.6412 - val_accuracy: 0.3900\n",
            "Epoch 3/50\n",
            "196/196 [==============================] - 217s 1s/step - loss: 1.5120 - accuracy: 0.4500 - val_loss: 1.4226 - val_accuracy: 0.4929\n",
            "Epoch 4/50\n",
            "196/196 [==============================] - 217s 1s/step - loss: 1.3851 - accuracy: 0.5020 - val_loss: 1.2342 - val_accuracy: 0.5617\n",
            "Epoch 5/50\n",
            "196/196 [==============================] - 218s 1s/step - loss: 1.2827 - accuracy: 0.5452 - val_loss: 1.1667 - val_accuracy: 0.5788\n",
            "Epoch 6/50\n",
            "196/196 [==============================] - 215s 1s/step - loss: 1.1991 - accuracy: 0.5751 - val_loss: 1.1930 - val_accuracy: 0.5813\n",
            "Epoch 7/50\n",
            "196/196 [==============================] - 215s 1s/step - loss: 1.1318 - accuracy: 0.5987 - val_loss: 1.0801 - val_accuracy: 0.6214\n",
            "Epoch 8/50\n",
            "196/196 [==============================] - 215s 1s/step - loss: 1.0659 - accuracy: 0.6226 - val_loss: 1.0246 - val_accuracy: 0.6383\n",
            "Epoch 9/50\n",
            "196/196 [==============================] - 216s 1s/step - loss: 1.0164 - accuracy: 0.6408 - val_loss: 1.0381 - val_accuracy: 0.6266\n",
            "Epoch 10/50\n",
            "196/196 [==============================] - 217s 1s/step - loss: 0.9676 - accuracy: 0.6612 - val_loss: 0.8896 - val_accuracy: 0.6876\n",
            "Epoch 11/50\n",
            "196/196 [==============================] - 216s 1s/step - loss: 0.9298 - accuracy: 0.6733 - val_loss: 1.0030 - val_accuracy: 0.6570\n",
            "Epoch 12/50\n",
            "196/196 [==============================] - 216s 1s/step - loss: 0.8961 - accuracy: 0.6858 - val_loss: 0.8912 - val_accuracy: 0.6883\n",
            "Epoch 13/50\n",
            "196/196 [==============================] - 217s 1s/step - loss: 0.8555 - accuracy: 0.6990 - val_loss: 0.9994 - val_accuracy: 0.6720\n",
            "Epoch 14/50\n",
            "196/196 [==============================] - 217s 1s/step - loss: 0.8275 - accuracy: 0.7107 - val_loss: 0.8180 - val_accuracy: 0.7158\n",
            "Epoch 15/50\n",
            "196/196 [==============================] - 217s 1s/step - loss: 0.7960 - accuracy: 0.7203 - val_loss: 0.7788 - val_accuracy: 0.7314\n",
            "Epoch 16/50\n",
            "196/196 [==============================] - 217s 1s/step - loss: 0.7713 - accuracy: 0.7299 - val_loss: 0.8020 - val_accuracy: 0.7177\n",
            "Epoch 17/50\n",
            "196/196 [==============================] - 217s 1s/step - loss: 0.7472 - accuracy: 0.7395 - val_loss: 0.8285 - val_accuracy: 0.7250\n",
            "Epoch 18/50\n",
            "196/196 [==============================] - 216s 1s/step - loss: 0.7264 - accuracy: 0.7486 - val_loss: 0.7072 - val_accuracy: 0.7581\n",
            "Epoch 19/50\n",
            "196/196 [==============================] - 217s 1s/step - loss: 0.7075 - accuracy: 0.7538 - val_loss: 0.7536 - val_accuracy: 0.7396\n",
            "Epoch 20/50\n",
            "110/196 [===============>..............] - ETA: 1:32 - loss: 0.6861 - accuracy: 0.7614"
          ],
          "name": "stdout"
        }
      ]
    }
  ]
}